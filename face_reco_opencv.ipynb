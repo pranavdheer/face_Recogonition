{
 "cells": [
  {
   "cell_type": "code",
   "execution_count": 45,
   "metadata": {
    "collapsed": false
   },
   "outputs": [],
   "source": [
    "import cv2\n",
    "import numpy as np\n",
    "from matplotlib import pyplot as plt\n",
    "import sys\n",
    "%matplotlib inline"
   ]
  },
  {
   "cell_type": "code",
   "execution_count": 46,
   "metadata": {
    "collapsed": false
   },
   "outputs": [
    {
     "data": {
      "text/plain": [
       "'3.1.0'"
      ]
     },
     "execution_count": 46,
     "metadata": {},
     "output_type": "execute_result"
    }
   ],
   "source": [
    "cv2.__version__\n"
   ]
  },
  {
   "cell_type": "code",
   "execution_count": 66,
   "metadata": {
    "collapsed": false
   },
   "outputs": [],
   "source": [
    "recogonizer=cv2.face.createEigenFaceRecognizer()"
   ]
  },
  {
   "cell_type": "code",
   "execution_count": 67,
   "metadata": {
    "collapsed": false
   },
   "outputs": [],
   "source": [
    "imag_list=[]\n",
    "label=[]\n",
    "for ix in range (1,21):\n",
    "    string=repr(ix)\n",
    "    for iy in range (1,8):\n",
    "        s=repr(iy)\n",
    "        address='./orl_faces/s'+string+'/'+s+'.pgm'\n",
    "        img=cv2.imread(address)\n",
    "        img = cv2.cvtColor(img, cv2.COLOR_BGR2GRAY)\n",
    "        img= img.reshape(112*92,)\n",
    "        imag_list.append(img)\n",
    "        label.append(ix)"
   ]
  },
  {
   "cell_type": "code",
   "execution_count": 68,
   "metadata": {
    "collapsed": false
   },
   "outputs": [
    {
     "name": "stdout",
     "output_type": "stream",
     "text": [
      "(140,)\n",
      "(140, 10304)\n"
     ]
    }
   ],
   "source": [
    "image=np.asarray(imag_list)\n",
    "lab=np.asarray(label)\n",
    "print lab.shape\n",
    "print image.shape"
   ]
  },
  {
   "cell_type": "code",
   "execution_count": 69,
   "metadata": {
    "collapsed": false
   },
   "outputs": [],
   "source": [
    "cv2.startWindowThread()\n",
    "cv2.namedWindow(\"img\")\n",
    "cv2.imshow('img',image[1,:].reshape(112,92))\n"
   ]
  },
  {
   "cell_type": "code",
   "execution_count": 70,
   "metadata": {
    "collapsed": false
   },
   "outputs": [],
   "source": [
    "recogonizer.train(image, lab)"
   ]
  },
  {
   "cell_type": "code",
   "execution_count": 71,
   "metadata": {
    "collapsed": false
   },
   "outputs": [
    {
     "name": "stdout",
     "output_type": "stream",
     "text": [
      "(60, 10304) (60,)\n"
     ]
    }
   ],
   "source": [
    "test_list=[]\n",
    "test_label=[]\n",
    "for ix in range (1,21):\n",
    "    string=repr(ix)\n",
    "    for iy in range (8,11):\n",
    "        s=repr(iy)\n",
    "        address='./orl_faces/s'+string+'/'+s+'.pgm'\n",
    "        img=plt.imread(address)\n",
    "        img= img.reshape(112*92,)\n",
    "        test_list.append(img)\n",
    "        test_label.append(ix)\n",
    "test_array=np.asarray(test_list)\n",
    "test_lab=np.asarray(test_label)\n",
    "print test_array.shape,test_lab.shape\n",
    "test_lab= test_lab.reshape(60,1)\n"
   ]
  },
  {
   "cell_type": "code",
   "execution_count": 77,
   "metadata": {
    "collapsed": false
   },
   "outputs": [
    {
     "ename": "TypeError",
     "evalue": "'int' object is not iterable",
     "output_type": "error",
     "traceback": [
      "\u001b[0;31m---------------------------------------------------------------------------\u001b[0m",
      "\u001b[0;31mTypeError\u001b[0m                                 Traceback (most recent call last)",
      "\u001b[0;32m<ipython-input-77-ab980e1d4896>\u001b[0m in \u001b[0;36m<module>\u001b[0;34m()\u001b[0m\n\u001b[1;32m      1\u001b[0m \u001b[0mflag\u001b[0m\u001b[0;34m=\u001b[0m\u001b[0;36m0.00\u001b[0m\u001b[0;34m\u001b[0m\u001b[0m\n\u001b[1;32m      2\u001b[0m \u001b[0;32mfor\u001b[0m \u001b[0mix\u001b[0m \u001b[0;32min\u001b[0m \u001b[0mrange\u001b[0m\u001b[0;34m(\u001b[0m\u001b[0;36m0\u001b[0m\u001b[0;34m,\u001b[0m\u001b[0;36m60\u001b[0m\u001b[0;34m)\u001b[0m\u001b[0;34m:\u001b[0m\u001b[0;34m\u001b[0m\u001b[0m\n\u001b[0;32m----> 3\u001b[0;31m     \u001b[0mnbr_predicted\u001b[0m\u001b[0;34m,\u001b[0m\u001b[0mcon\u001b[0m \u001b[0;34m=\u001b[0m \u001b[0mrecogonizer\u001b[0m\u001b[0;34m.\u001b[0m\u001b[0mpredict\u001b[0m\u001b[0;34m(\u001b[0m\u001b[0mtest_array\u001b[0m\u001b[0;34m[\u001b[0m\u001b[0mix\u001b[0m\u001b[0;34m,\u001b[0m\u001b[0;34m:\u001b[0m\u001b[0;34m]\u001b[0m\u001b[0;34m)\u001b[0m\u001b[0;34m\u001b[0m\u001b[0m\n\u001b[0m\u001b[1;32m      4\u001b[0m     \u001b[0;32mif\u001b[0m \u001b[0mtest_lab\u001b[0m\u001b[0;34m[\u001b[0m\u001b[0mix\u001b[0m\u001b[0;34m]\u001b[0m\u001b[0;34m==\u001b[0m\u001b[0mnbr_predicted\u001b[0m\u001b[0;34m:\u001b[0m\u001b[0;34m\u001b[0m\u001b[0m\n\u001b[1;32m      5\u001b[0m         \u001b[0mflag\u001b[0m\u001b[0;34m=\u001b[0m\u001b[0mflag\u001b[0m\u001b[0;34m+\u001b[0m\u001b[0;36m1\u001b[0m\u001b[0;34m\u001b[0m\u001b[0m\n",
      "\u001b[0;31mTypeError\u001b[0m: 'int' object is not iterable"
     ]
    }
   ],
   "source": [
    "flag=0.00\n",
    "for ix in range(0,60):\n",
    "    nbr_predicted = recogonizer.predict(test_array[ix,:])\n",
    "    if test_lab[ix]==nbr_predicted:\n",
    "        flag=flag+1"
   ]
  },
  {
   "cell_type": "code",
   "execution_count": 73,
   "metadata": {
    "collapsed": false
   },
   "outputs": [
    {
     "name": "stdout",
     "output_type": "stream",
     "text": [
      "93.3333333333\n"
     ]
    }
   ],
   "source": [
    "accuracy=flag/60\n",
    "print accuracy*100"
   ]
  },
  {
   "cell_type": "code",
   "execution_count": 76,
   "metadata": {
    "collapsed": false
   },
   "outputs": [
    {
     "name": "stdout",
     "output_type": "stream",
     "text": [
      "Help on face_BasicFaceRecognizer object:\n",
      "\n",
      "class face_BasicFaceRecognizer(face_FaceRecognizer)\n",
      " |  Method resolution order:\n",
      " |      face_BasicFaceRecognizer\n",
      " |      face_FaceRecognizer\n",
      " |      Algorithm\n",
      " |      __builtin__.object\n",
      " |  \n",
      " |  Methods defined here:\n",
      " |  \n",
      " |  __repr__(...)\n",
      " |      x.__repr__() <==> repr(x)\n",
      " |  \n",
      " |  getEigenValues(...)\n",
      " |      getEigenValues() -> retval\n",
      " |  \n",
      " |  getEigenVectors(...)\n",
      " |      getEigenVectors() -> retval\n",
      " |  \n",
      " |  getLabels(...)\n",
      " |      getLabels() -> retval\n",
      " |  \n",
      " |  getMean(...)\n",
      " |      getMean() -> retval\n",
      " |  \n",
      " |  getNumComponents(...)\n",
      " |      getNumComponents() -> retval\n",
      " |  \n",
      " |  getProjections(...)\n",
      " |      getProjections() -> retval\n",
      " |  \n",
      " |  getThreshold(...)\n",
      " |      getThreshold() -> retval\n",
      " |  \n",
      " |  setNumComponents(...)\n",
      " |      setNumComponents(val) -> None\n",
      " |  \n",
      " |  setThreshold(...)\n",
      " |      setThreshold(val) -> None\n",
      " |  \n",
      " |  ----------------------------------------------------------------------\n",
      " |  Data and other attributes defined here:\n",
      " |  \n",
      " |  __new__ = <built-in method __new__ of type object>\n",
      " |      T.__new__(S, ...) -> a new object with type S, a subtype of T\n",
      " |  \n",
      " |  ----------------------------------------------------------------------\n",
      " |  Methods inherited from face_FaceRecognizer:\n",
      " |  \n",
      " |  getLabelInfo(...)\n",
      " |      getLabelInfo(label) -> retval\n",
      " |  \n",
      " |  getLabelsByString(...)\n",
      " |      getLabelsByString(str) -> retval\n",
      " |  \n",
      " |  load(...)\n",
      " |      load(filename) -> None\n",
      " |  \n",
      " |  predict(...)\n",
      " |      predict(src) -> retval  or  predict(src) -> label, confidence  or  predict(src, collector[, state]) -> None\n",
      " |  \n",
      " |  save(...)\n",
      " |      save(filename) -> None\n",
      " |  \n",
      " |  setLabelInfo(...)\n",
      " |      setLabelInfo(label, strInfo) -> None\n",
      " |  \n",
      " |  train(...)\n",
      " |      train(src, labels) -> None\n",
      " |  \n",
      " |  update(...)\n",
      " |      update(src, labels) -> None\n",
      " |  \n",
      " |  ----------------------------------------------------------------------\n",
      " |  Methods inherited from Algorithm:\n",
      " |  \n",
      " |  clear(...)\n",
      " |      clear() -> None\n",
      " |  \n",
      " |  getDefaultName(...)\n",
      " |      getDefaultName() -> retval\n",
      "\n"
     ]
    }
   ],
   "source": [
    "help(recogonizer)"
   ]
  },
  {
   "cell_type": "code",
   "execution_count": 79,
   "metadata": {
    "collapsed": false
   },
   "outputs": [
    {
     "ename": "TypeError",
     "evalue": "'int' object is not iterable",
     "output_type": "error",
     "traceback": [
      "\u001b[0;31m---------------------------------------------------------------------------\u001b[0m",
      "\u001b[0;31mTypeError\u001b[0m                                 Traceback (most recent call last)",
      "\u001b[0;32m<ipython-input-79-127392e7d76a>\u001b[0m in \u001b[0;36m<module>\u001b[0;34m()\u001b[0m\n\u001b[0;32m----> 1\u001b[0;31m \u001b[0mnbr_predicted\u001b[0m\u001b[0;34m,\u001b[0m\u001b[0mpred\u001b[0m \u001b[0;34m=\u001b[0m \u001b[0mrecogonizer\u001b[0m\u001b[0;34m.\u001b[0m\u001b[0mpredict\u001b[0m\u001b[0;34m(\u001b[0m\u001b[0mtest_array\u001b[0m\u001b[0;34m[\u001b[0m\u001b[0;36m0\u001b[0m\u001b[0;34m,\u001b[0m\u001b[0;34m:\u001b[0m\u001b[0;34m]\u001b[0m\u001b[0;34m)\u001b[0m\u001b[0;34m\u001b[0m\u001b[0m\n\u001b[0m",
      "\u001b[0;31mTypeError\u001b[0m: 'int' object is not iterable"
     ]
    }
   ],
   "source": [
    "nbr_predicted,pred = recogonizer.predict(test_array[0,:])"
   ]
  },
  {
   "cell_type": "code",
   "execution_count": null,
   "metadata": {
    "collapsed": true
   },
   "outputs": [],
   "source": []
  }
 ],
 "metadata": {
  "kernelspec": {
   "display_name": "Python 2",
   "language": "python",
   "name": "python2"
  },
  "language_info": {
   "codemirror_mode": {
    "name": "ipython",
    "version": 2
   },
   "file_extension": ".py",
   "mimetype": "text/x-python",
   "name": "python",
   "nbconvert_exporter": "python",
   "pygments_lexer": "ipython2",
   "version": "2.7.12"
  }
 },
 "nbformat": 4,
 "nbformat_minor": 2
}
